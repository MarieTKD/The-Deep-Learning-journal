{
  "nbformat": 4,
  "nbformat_minor": 0,
  "metadata": {
    "colab": {
      "name": "2022-08-17-Numpy-notes.ipynb",
      "provenance": [],
      "collapsed_sections": [
        "aBhEZnT1ToZy",
        "hcS9ojPxSXVW",
        "sY5VYjD7lFdh",
        "cGOqSSfBmuhb"
      ],
      "authorship_tag": "ABX9TyPJjDQM2msmalcllo4O1n5q",
      "include_colab_link": true
    },
    "kernelspec": {
      "name": "python3",
      "display_name": "Python 3"
    },
    "language_info": {
      "name": "python"
    }
  },
  "cells": [
    {
      "cell_type": "markdown",
      "metadata": {
        "id": "view-in-github",
        "colab_type": "text"
      },
      "source": [
        "<a href=\"https://colab.research.google.com/github/MarieTKD/The-Deep-Learning-journal/blob/master/_notebooks/2022_08_17_Numpy_notes.ipynb\" target=\"_parent\"><img src=\"https://colab.research.google.com/assets/colab-badge.svg\" alt=\"Open In Colab\"/></a>"
      ]
    },
    {
      "cell_type": "markdown",
      "source": [
        "# Numpy - Numerical Python Library\n",
        "- toc: true \n",
        "- badges: true\n",
        "- comments: true\n",
        "- categories: [fastpages, Python]"
      ],
      "metadata": {
        "id": "Um1v7LOXFZmU"
      }
    },
    {
      "cell_type": "markdown",
      "source": [
        "How to create an array wih certain data types, manipulating arrays, selecting elements from arrays, and loading dataset into an array."
      ],
      "metadata": {
        "id": "2PeuXGNlStdt"
      }
    },
    {
      "cell_type": "code",
      "source": [
        "import numpy as np\n",
        "import math"
      ],
      "metadata": {
        "id": "5X6vG69KF3ax"
      },
      "execution_count": null,
      "outputs": []
    },
    {
      "cell_type": "markdown",
      "source": [
        "# **Array creation**"
      ],
      "metadata": {
        "id": "NX4fzrxbF926"
      }
    },
    {
      "cell_type": "code",
      "source": [
        "a = np.array([1,2,3])\n",
        "print(a)\n",
        "print(a.ndim)  #Shows the array dimension"
      ],
      "metadata": {
        "colab": {
          "base_uri": "https://localhost:8080/"
        },
        "id": "3Q1LAr1UGIZi",
        "outputId": "cc891854-1aa5-446c-b408-fb4e20b629ab"
      },
      "execution_count": null,
      "outputs": [
        {
          "output_type": "stream",
          "name": "stdout",
          "text": [
            "[1 2 3]\n",
            "1\n"
          ]
        }
      ]
    },
    {
      "cell_type": "markdown",
      "source": [
        "We can make multi-dimensional array by making an array of arrays:"
      ],
      "metadata": {
        "id": "2JGiDl2kH8Tk"
      }
    },
    {
      "cell_type": "code",
      "source": [
        "b = np.array([[1,2,3], [4,5,6]])\n",
        "print(b)\n",
        "print(b.ndim)"
      ],
      "metadata": {
        "colab": {
          "base_uri": "https://localhost:8080/"
        },
        "id": "bs-lmLdvGtdw",
        "outputId": "2cc07c7d-2819-4800-aca7-bfdd16f022fc"
      },
      "execution_count": null,
      "outputs": [
        {
          "output_type": "stream",
          "name": "stdout",
          "text": [
            "[[1 2 3]\n",
            " [4 5 6]]\n",
            "2\n"
          ]
        }
      ]
    },
    {
      "cell_type": "markdown",
      "source": [
        "We can try the length of each dimension (the matrix size?) using the shape attribute, which return a tuple:"
      ],
      "metadata": {
        "id": "FuF2cnt3HRuB"
      }
    },
    {
      "cell_type": "code",
      "source": [
        "b.shape"
      ],
      "metadata": {
        "colab": {
          "base_uri": "https://localhost:8080/"
        },
        "id": "fsrbEgTJHJJL",
        "outputId": "65f376bd-bd83-4d6a-b244-a8ea725f0e70"
      },
      "execution_count": null,
      "outputs": [
        {
          "output_type": "execute_result",
          "data": {
            "text/plain": [
              "(2, 3)"
            ]
          },
          "metadata": {},
          "execution_count": 8
        }
      ]
    },
    {
      "cell_type": "markdown",
      "source": [
        "We can check the types of items in the array using dtype:"
      ],
      "metadata": {
        "id": "8---Mr8OKUxS"
      }
    },
    {
      "cell_type": "code",
      "source": [
        "b.dtype"
      ],
      "metadata": {
        "colab": {
          "base_uri": "https://localhost:8080/"
        },
        "id": "PYFaWfuNKdSu",
        "outputId": "28846cb1-cfea-49bb-ca5b-81f33a38c959"
      },
      "execution_count": null,
      "outputs": [
        {
          "output_type": "execute_result",
          "data": {
            "text/plain": [
              "dtype('int64')"
            ]
          },
          "metadata": {},
          "execution_count": 11
        }
      ]
    },
    {
      "cell_type": "markdown",
      "source": [
        "Array can also take floats or strings:"
      ],
      "metadata": {
        "id": "6x2SHUlCLpxa"
      }
    },
    {
      "cell_type": "code",
      "source": [
        "c = np.array([3.2, 4.5,7.7,5])      # 5 will be converted into a float\n",
        "c.dtype.name\n",
        "print(c)"
      ],
      "metadata": {
        "colab": {
          "base_uri": "https://localhost:8080/"
        },
        "id": "NTs6a6qTLxs2",
        "outputId": "d7436605-f0b8-43e3-9d5b-773a13067d06"
      },
      "execution_count": null,
      "outputs": [
        {
          "output_type": "stream",
          "name": "stdout",
          "text": [
            "[3.2 4.5 7.7 5. ]\n"
          ]
        }
      ]
    },
    {
      "cell_type": "code",
      "source": [
        "w = np.array(['one', 'two', 'three'])\n",
        "print(w)\n",
        "w.dtype.name"
      ],
      "metadata": {
        "colab": {
          "base_uri": "https://localhost:8080/",
          "height": 53
        },
        "id": "QoceDbbjMC3B",
        "outputId": "9827973c-bd63-4f0e-9cf0-aa047889511a"
      },
      "execution_count": null,
      "outputs": [
        {
          "output_type": "stream",
          "name": "stdout",
          "text": [
            "['one' 'two' 'three']\n"
          ]
        },
        {
          "output_type": "execute_result",
          "data": {
            "text/plain": [
              "'str160'"
            ],
            "application/vnd.google.colaboratory.intrinsic+json": {
              "type": "string"
            }
          },
          "metadata": {},
          "execution_count": 30
        }
      ]
    },
    {
      "cell_type": "markdown",
      "source": [
        "If we want to create the shape of an array but don't know which number to put in, we can ask Numpy to **fill in** with 0s or 1s, and even with random numbers!"
      ],
      "metadata": {
        "id": "HZTWBeCVNbyw"
      }
    },
    {
      "cell_type": "code",
      "source": [
        "d = np.zeros((2,3))\n",
        "print(d)\n",
        "d.dtype"
      ],
      "metadata": {
        "colab": {
          "base_uri": "https://localhost:8080/"
        },
        "id": "iw3AfNvTNwzD",
        "outputId": "f98bed70-ae91-41cd-b799-cf4d121d1b71"
      },
      "execution_count": null,
      "outputs": [
        {
          "output_type": "stream",
          "name": "stdout",
          "text": [
            "[[0. 0. 0.]\n",
            " [0. 0. 0.]]\n"
          ]
        },
        {
          "output_type": "execute_result",
          "data": {
            "text/plain": [
              "dtype('float64')"
            ]
          },
          "metadata": {},
          "execution_count": 19
        }
      ]
    },
    {
      "cell_type": "code",
      "source": [
        "e = np.ones((2,2))\n",
        "print(e)"
      ],
      "metadata": {
        "colab": {
          "base_uri": "https://localhost:8080/"
        },
        "id": "8h5pK8tbOLeX",
        "outputId": "09dae5d0-e238-45da-a6ad-9ee73db98a5d"
      },
      "execution_count": null,
      "outputs": [
        {
          "output_type": "stream",
          "name": "stdout",
          "text": [
            "[[1. 1.]\n",
            " [1. 1.]]\n"
          ]
        }
      ]
    },
    {
      "cell_type": "code",
      "source": [
        "np.random.rand(2,3)"
      ],
      "metadata": {
        "colab": {
          "base_uri": "https://localhost:8080/"
        },
        "id": "eKbMmCFbPhsi",
        "outputId": "25898eb6-ae9c-467b-fb4d-b000bf4d758e"
      },
      "execution_count": null,
      "outputs": [
        {
          "output_type": "execute_result",
          "data": {
            "text/plain": [
              "array([[0.35359388, 0.29081185, 0.43913489],\n",
              "       [0.99846144, 0.10830342, 0.88768546]])"
            ]
          },
          "metadata": {},
          "execution_count": 27
        }
      ]
    },
    {
      "cell_type": "markdown",
      "source": [
        "We can create a sequence of integers in an array using the **arange** function:\n",
        "arange(*lower bound*, *ending bound*, *difference between consecutive numbers*)"
      ],
      "metadata": {
        "id": "sA6tHMQYQYnx"
      }
    },
    {
      "cell_type": "code",
      "source": [
        "f = np.arange(10,20,2)\n",
        "print(f)"
      ],
      "metadata": {
        "colab": {
          "base_uri": "https://localhost:8080/"
        },
        "id": "4qC3jYibReIM",
        "outputId": "df0967ee-b2f0-4918-8a1f-d0017db5439d"
      },
      "execution_count": null,
      "outputs": [
        {
          "output_type": "stream",
          "name": "stdout",
          "text": [
            "[10 12 14 16 18]\n"
          ]
        }
      ]
    },
    {
      "cell_type": "markdown",
      "source": [
        "We can also generate a sequence of floats using the **linspace** function: linspace(*lower bound*, *ending bound*, *number of floats generated*)"
      ],
      "metadata": {
        "id": "GVU2qFeCSnMH"
      }
    },
    {
      "cell_type": "code",
      "source": [
        "np.linspace(0, 1, 10) "
      ],
      "metadata": {
        "colab": {
          "base_uri": "https://localhost:8080/"
        },
        "id": "OUbnRcXkTJGg",
        "outputId": "2cdcd217-adb9-4535-e7de-9f43be72c16c"
      },
      "execution_count": null,
      "outputs": [
        {
          "output_type": "execute_result",
          "data": {
            "text/plain": [
              "array([0.        , 0.11111111, 0.22222222, 0.33333333, 0.44444444,\n",
              "       0.55555556, 0.66666667, 0.77777778, 0.88888889, 1.        ])"
            ]
          },
          "metadata": {},
          "execution_count": 32
        }
      ]
    },
    {
      "cell_type": "markdown",
      "source": [
        "# **Array operations**"
      ],
      "metadata": {
        "id": "aBhEZnT1ToZy"
      }
    },
    {
      "cell_type": "markdown",
      "source": [
        "We can do many mathematical operations on arrays, such as addition, subtraction, square, exponents) as well as boolean arrays. Linear algebra is also possible: matrix multiplication, product, transpose, inverse etc."
      ],
      "metadata": {
        "id": "16sFHaBETv8Z"
      }
    },
    {
      "cell_type": "markdown",
      "source": [
        "Arithmetic operators on arrays apply lengthwise."
      ],
      "metadata": {
        "id": "jLkUA9HwmgUD"
      }
    },
    {
      "cell_type": "code",
      "source": [
        "a = np.array([10,20,30,40])\n",
        "b = np.array([1,2,3,4])\n",
        "c = a-b\n",
        "d = a*b\n",
        "print(c)\n",
        "print(d)"
      ],
      "metadata": {
        "colab": {
          "base_uri": "https://localhost:8080/"
        },
        "id": "A-x4nYOLd6EW",
        "outputId": "dcd59af5-f229-4c87-a683-c3d5f4b767cd"
      },
      "execution_count": null,
      "outputs": [
        {
          "output_type": "stream",
          "name": "stdout",
          "text": [
            "[ 9 18 27 36]\n",
            "[ 10  40  90 160]\n"
          ]
        }
      ]
    },
    {
      "cell_type": "markdown",
      "source": [
        "Example: if I need to make 4 kinds of muffins and the recipes calls for tsp instead of grams. I want to know how many grams of sugar each muffin will have. Let's create an array of the different teaspoons of sugar for my 4 recipes:"
      ],
      "metadata": {
        "id": "Mb_UvT00wny_"
      }
    },
    {
      "cell_type": "code",
      "source": [
        "teaspoons = np.array([15,10,6,21])"
      ],
      "metadata": {
        "id": "ZOY30sYuxwks"
      },
      "execution_count": null,
      "outputs": []
    },
    {
      "cell_type": "markdown",
      "source": [
        "Google says that 1 teaspoon equals 4 grams of sugar. Each recipe makes 6 muffins, so the conversion will be:"
      ],
      "metadata": {
        "id": "73H7tBB7yJGN"
      }
    },
    {
      "cell_type": "code",
      "source": [
        "grams = (teaspoons * 4)/6\n",
        "print(grams)"
      ],
      "metadata": {
        "colab": {
          "base_uri": "https://localhost:8080/"
        },
        "id": "ipA1Q7gOySvF",
        "outputId": "1129a082-d7e3-4cda-c1be-12a82d808756"
      },
      "execution_count": null,
      "outputs": [
        {
          "output_type": "stream",
          "name": "stdout",
          "text": [
            "[10.          6.66666667  4.         14.        ]\n"
          ]
        }
      ]
    },
    {
      "cell_type": "markdown",
      "source": [
        "Now I know how many grams of sugar my muffins will have. I have a special diet, and I can't eat food containing more than 5gr of sugar. I can use the boolean array to return which muffins have less than 5g of sugar:"
      ],
      "metadata": {
        "id": "DK8_Xm9KysrW"
      }
    },
    {
      "cell_type": "code",
      "source": [
        "grams < 5"
      ],
      "metadata": {
        "colab": {
          "base_uri": "https://localhost:8080/"
        },
        "id": "pgS5bYAZ_ga3",
        "outputId": "135e67ab-ab17-4351-c4d0-aa36e9d410a0"
      },
      "execution_count": null,
      "outputs": [
        {
          "output_type": "execute_result",
          "data": {
            "text/plain": [
              "array([False, False,  True, False])"
            ]
          },
          "metadata": {},
          "execution_count": 42
        }
      ]
    },
    {
      "cell_type": "markdown",
      "source": [
        "So I can eat one type of muffin, that's a relief! We can also check which muffins have an even number of grams of sugar (very important!):"
      ],
      "metadata": {
        "id": "hluCHZix_q8l"
      }
    },
    {
      "cell_type": "code",
      "source": [
        "grams%2 == 0"
      ],
      "metadata": {
        "colab": {
          "base_uri": "https://localhost:8080/"
        },
        "id": "SlyUYUQUAOi4",
        "outputId": "f3ac3532-bebf-46a0-f7ac-fba017efc4ae"
      },
      "execution_count": null,
      "outputs": [
        {
          "output_type": "execute_result",
          "data": {
            "text/plain": [
              "array([ True, False,  True,  True])"
            ]
          },
          "metadata": {},
          "execution_count": 43
        }
      ]
    },
    {
      "cell_type": "markdown",
      "source": [
        "Two ways to do array multiplication: elementwise (use *) or a matrix product (use @)"
      ],
      "metadata": {
        "id": "DVMEf765_6bs"
      }
    },
    {
      "cell_type": "code",
      "source": [
        "A = np.array([[1,1],[0,1]])\n",
        "B = np.array([[2,0],[3,4]])\n",
        "print(A*B)   ###elementwise multiplication "
      ],
      "metadata": {
        "colab": {
          "base_uri": "https://localhost:8080/"
        },
        "id": "otUymHrVJrzz",
        "outputId": "800b98e5-32de-4f83-8fb9-e3ae3e5c7139"
      },
      "execution_count": null,
      "outputs": [
        {
          "output_type": "stream",
          "name": "stdout",
          "text": [
            "[[2 0]\n",
            " [0 4]]\n"
          ]
        }
      ]
    },
    {
      "cell_type": "code",
      "source": [
        "### Matrix multiplication\n",
        "print(A@B)"
      ],
      "metadata": {
        "colab": {
          "base_uri": "https://localhost:8080/"
        },
        "id": "vOdDyR-EKR8N",
        "outputId": "1f7eb002-c01a-4ab5-8396-7d4cac2cb917"
      },
      "execution_count": null,
      "outputs": [
        {
          "output_type": "stream",
          "name": "stdout",
          "text": [
            "[[5 4]\n",
            " [3 4]]\n"
          ]
        }
      ]
    },
    {
      "cell_type": "markdown",
      "source": [
        "If we work with array of different types, the resulting array's type will be the more general of the 2 types. This is \"upcasting\". Ex:"
      ],
      "metadata": {
        "id": "O38evtEwLBN4"
      }
    },
    {
      "cell_type": "code",
      "source": [
        "array1 = np.array([[1,2,3,4],[3,4,5,6]])\n",
        "array2 = np.array([[1.2,3.2,4.3,5.2],[3.5,6.3,2.4,5.4]])\n",
        "print (array1.dtype)\n",
        "print(array2.dtype)"
      ],
      "metadata": {
        "colab": {
          "base_uri": "https://localhost:8080/"
        },
        "id": "wNU7JAULLPZ_",
        "outputId": "4ee8cb24-cfd0-4cbf-8dc5-a1bd97411cc1"
      },
      "execution_count": null,
      "outputs": [
        {
          "output_type": "stream",
          "name": "stdout",
          "text": [
            "int64\n",
            "float64\n"
          ]
        }
      ]
    },
    {
      "cell_type": "code",
      "source": [
        "array3 = array1 + array2\n",
        "print(array3)\n",
        "print(array3.dtype)"
      ],
      "metadata": {
        "colab": {
          "base_uri": "https://localhost:8080/"
        },
        "id": "4t5Bbzj_MKiK",
        "outputId": "2d38f6c7-e3e2-49b4-ed43-0b5a72f30e0c"
      },
      "execution_count": null,
      "outputs": [
        {
          "output_type": "stream",
          "name": "stdout",
          "text": [
            "[[ 2.2  5.2  7.3  9.2]\n",
            " [ 6.5 10.3  7.4 11.4]]\n",
            "float64\n"
          ]
        }
      ]
    },
    {
      "cell_type": "markdown",
      "source": [
        "Numpy has function to give the min, max, sum and mean:"
      ],
      "metadata": {
        "id": "Enm8gpmBMcMs"
      }
    },
    {
      "cell_type": "code",
      "source": [
        "print(array3.min())\n",
        "print(array3.max())\n",
        "print(array3.sum())\n",
        "print(array3.mean())"
      ],
      "metadata": {
        "colab": {
          "base_uri": "https://localhost:8080/"
        },
        "id": "_gCmlwvqMpBJ",
        "outputId": "53056455-68ee-4f84-dd2f-0f3a0bb17689"
      },
      "execution_count": null,
      "outputs": [
        {
          "output_type": "stream",
          "name": "stdout",
          "text": [
            "2.2\n",
            "11.4\n",
            "59.5\n",
            "7.4375\n"
          ]
        }
      ]
    },
    {
      "cell_type": "markdown",
      "source": [
        "For 2 dimensional arrays, we can do these operations for each row or column.\n",
        "Let's create an array with 12 elements, 3X4"
      ],
      "metadata": {
        "id": "pH5lfl0KNG5A"
      }
    },
    {
      "cell_type": "code",
      "source": [
        "b = np.array(np.arange(1,13,1).reshape(3,4))\n",
        "print(b)"
      ],
      "metadata": {
        "colab": {
          "base_uri": "https://localhost:8080/"
        },
        "id": "RZZrh26HNcZp",
        "outputId": "853ac505-8be5-4bde-cc48-ca475fae4817"
      },
      "execution_count": null,
      "outputs": [
        {
          "output_type": "stream",
          "name": "stdout",
          "text": [
            "[[ 1  2  3  4]\n",
            " [ 5  6  7  8]\n",
            " [ 9 10 11 12]]\n"
          ]
        }
      ]
    },
    {
      "cell_type": "markdown",
      "source": [
        "# **Indexing, Slicing and iterating**"
      ],
      "metadata": {
        "id": "hcS9ojPxSXVW"
      }
    },
    {
      "cell_type": "markdown",
      "source": [
        "**Indexing**"
      ],
      "metadata": {
        "id": "8Do9hhqMSfyJ"
      }
    },
    {
      "cell_type": "markdown",
      "source": [
        "For a one-dimensional array, we simply use the offset index:"
      ],
      "metadata": {
        "id": "EC_X1D5tS3ge"
      }
    },
    {
      "cell_type": "code",
      "source": [
        "a = np.array([5,6,7,8,9])\n",
        "a[2]"
      ],
      "metadata": {
        "colab": {
          "base_uri": "https://localhost:8080/"
        },
        "id": "Wp8-bSIES_Fz",
        "outputId": "5e374242-2b75-4927-f3ff-24bc738452a0"
      },
      "execution_count": null,
      "outputs": [
        {
          "output_type": "execute_result",
          "data": {
            "text/plain": [
              "7"
            ]
          },
          "metadata": {},
          "execution_count": 4
        }
      ]
    },
    {
      "cell_type": "markdown",
      "source": [
        "Fro multidimensional arrays, we enter an index with 2 numbers: the first representing the rows, the second the column:"
      ],
      "metadata": {
        "id": "XOrE2Zc9TXBz"
      }
    },
    {
      "cell_type": "code",
      "source": [
        "b = np.array([[1,2],[3,4],[5,6]])\n",
        "b"
      ],
      "metadata": {
        "colab": {
          "base_uri": "https://localhost:8080/"
        },
        "id": "6GTCnYwVTtmS",
        "outputId": "7d8e6b45-cfc3-48c9-d658-d3c338dbefd6"
      },
      "execution_count": null,
      "outputs": [
        {
          "output_type": "execute_result",
          "data": {
            "text/plain": [
              "array([[1, 2],\n",
              "       [3, 4],\n",
              "       [5, 6]])"
            ]
          },
          "metadata": {},
          "execution_count": 4
        }
      ]
    },
    {
      "cell_type": "code",
      "source": [
        "b[2,1]"
      ],
      "metadata": {
        "colab": {
          "base_uri": "https://localhost:8080/"
        },
        "id": "aLUbK7a3UUTY",
        "outputId": "7151f0b4-ebfe-4b0f-efef-1f4b9e3e0a7b"
      },
      "execution_count": null,
      "outputs": [
        {
          "output_type": "execute_result",
          "data": {
            "text/plain": [
              "6"
            ]
          },
          "metadata": {},
          "execution_count": 5
        }
      ]
    },
    {
      "cell_type": "markdown",
      "source": [
        "To get multiple numbers from the array, we make an array of the indexes:"
      ],
      "metadata": {
        "id": "3UljrX-fUf91"
      }
    },
    {
      "cell_type": "code",
      "source": [
        "np.array([b[0,0],b[1,0], b[2,1]])"
      ],
      "metadata": {
        "colab": {
          "base_uri": "https://localhost:8080/"
        },
        "id": "E8dbtM79Usc4",
        "outputId": "e66f93ab-7261-4daa-b858-212831a876cc"
      },
      "execution_count": null,
      "outputs": [
        {
          "output_type": "execute_result",
          "data": {
            "text/plain": [
              "array([1, 3, 6])"
            ]
          },
          "metadata": {},
          "execution_count": 6
        }
      ]
    },
    {
      "cell_type": "markdown",
      "source": [
        "We can also do this by \"zipping\" the two lists of indexes together:"
      ],
      "metadata": {
        "id": "uea78_GuWH_3"
      }
    },
    {
      "cell_type": "code",
      "source": [
        "print(b[[0,1,2],[0,0,1]])"
      ],
      "metadata": {
        "colab": {
          "base_uri": "https://localhost:8080/"
        },
        "id": "79nQ-rBfkvuC",
        "outputId": "b2a93d7c-0880-4f32-8c8b-368de594c1a4"
      },
      "execution_count": null,
      "outputs": [
        {
          "output_type": "stream",
          "name": "stdout",
          "text": [
            "[1 3 6]\n"
          ]
        }
      ]
    },
    {
      "cell_type": "markdown",
      "source": [
        "# **Boolean indexing**"
      ],
      "metadata": {
        "id": "sY5VYjD7lFdh"
      }
    },
    {
      "cell_type": "markdown",
      "source": [
        "Boolean indexing lets us select elements that respect a condition. Let's look at the elements that are greater than 3 in the matrix b:"
      ],
      "metadata": {
        "id": "gU0p01jZlLDh"
      }
    },
    {
      "cell_type": "code",
      "source": [
        "print(b>3)"
      ],
      "metadata": {
        "colab": {
          "base_uri": "https://localhost:8080/"
        },
        "id": "5wVXWCQWl1T_",
        "outputId": "22c5c7a9-dc6a-4df0-f314-0b0740a15807"
      },
      "execution_count": null,
      "outputs": [
        {
          "output_type": "stream",
          "name": "stdout",
          "text": [
            "[[False False]\n",
            " [False  True]\n",
            " [ True  True]]\n"
          ]
        }
      ]
    },
    {
      "cell_type": "markdown",
      "source": [
        "We can then use this as a mask to obtain a one-dimensional array with only the values that respect the condition:"
      ],
      "metadata": {
        "id": "AvpIMgKmmC4n"
      }
    },
    {
      "cell_type": "code",
      "source": [
        "print(b[b>3])"
      ],
      "metadata": {
        "colab": {
          "base_uri": "https://localhost:8080/"
        },
        "id": "AAgvMfwvmYdG",
        "outputId": "0f20b808-cbee-4bee-d581-437280da5434"
      },
      "execution_count": null,
      "outputs": [
        {
          "output_type": "stream",
          "name": "stdout",
          "text": [
            "[4 5 6]\n"
          ]
        }
      ]
    },
    {
      "cell_type": "markdown",
      "source": [
        "*This functionality is essential in the Pandas toolkit!*"
      ],
      "metadata": {
        "id": "NaBULqBTmjU4"
      }
    },
    {
      "cell_type": "markdown",
      "source": [
        "# **Slicing**"
      ],
      "metadata": {
        "id": "cGOqSSfBmuhb"
      }
    },
    {
      "cell_type": "markdown",
      "source": [
        "Slicing is a way to create a sub-array based on an original array. For one-dimensional arrays, it works like a list.We use the : sign. For example, let's make a sub-array with the first three values of an original array:"
      ],
      "metadata": {
        "id": "bJ3WYddimyRb"
      }
    },
    {
      "cell_type": "code",
      "source": [
        "a = np.array([1,2,3,4,5,6,7,8])\n",
        "print(a[:3]) #Returns values from index 0 to index 2, so up to the last index"
      ],
      "metadata": {
        "colab": {
          "base_uri": "https://localhost:8080/"
        },
        "id": "nKejDWCfnhTN",
        "outputId": "91808a6f-7877-4e69-a0fe-28c7caf2a728"
      },
      "execution_count": null,
      "outputs": [
        {
          "output_type": "stream",
          "name": "stdout",
          "text": [
            "[1 2 3]\n"
          ]
        }
      ]
    },
    {
      "cell_type": "markdown",
      "source": [
        "To return a subset of the array, we use two indexes:"
      ],
      "metadata": {
        "id": "tV-yKDLOoBnL"
      }
    },
    {
      "cell_type": "code",
      "source": [
        "print(a[2:5]) #Return values from index 2 to index 4"
      ],
      "metadata": {
        "colab": {
          "base_uri": "https://localhost:8080/"
        },
        "id": "eWiV2HswoItM",
        "outputId": "0f4749ea-ad00-4be8-880a-134214beef05"
      },
      "execution_count": null,
      "outputs": [
        {
          "output_type": "stream",
          "name": "stdout",
          "text": [
            "[3 4 5]\n"
          ]
        }
      ]
    },
    {
      "cell_type": "markdown",
      "source": [
        "It works similarly for multi-dimensional arrays. "
      ],
      "metadata": {
        "id": "2gd9tclIomFa"
      }
    },
    {
      "cell_type": "code",
      "source": [
        "a = np.array([[1,2,3,4],[5,6,7,8],[3,5,7,2]])\n",
        "print(a)"
      ],
      "metadata": {
        "colab": {
          "base_uri": "https://localhost:8080/"
        },
        "id": "9QPjl0EtotHQ",
        "outputId": "951024da-0fe3-410c-84dd-4fb1d10be579"
      },
      "execution_count": null,
      "outputs": [
        {
          "output_type": "stream",
          "name": "stdout",
          "text": [
            "[[1 2 3 4]\n",
            " [5 6 7 8]\n",
            " [3 5 7 2]]\n"
          ]
        }
      ]
    },
    {
      "cell_type": "markdown",
      "source": [
        "The first slicing will select the rows:"
      ],
      "metadata": {
        "id": "TQhgpA77qJ8c"
      }
    },
    {
      "cell_type": "code",
      "source": [
        "print(a[:2])"
      ],
      "metadata": {
        "colab": {
          "base_uri": "https://localhost:8080/"
        },
        "id": "DpkHFhbopBc-",
        "outputId": "ca1b02d2-b477-4f57-d2f4-fe715ef3d4d9"
      },
      "execution_count": null,
      "outputs": [
        {
          "output_type": "stream",
          "name": "stdout",
          "text": [
            "[[1 2 3 4]\n",
            " [5 6 7 8]]\n"
          ]
        }
      ]
    },
    {
      "cell_type": "code",
      "source": [
        "print(a[2-3])"
      ],
      "metadata": {
        "colab": {
          "base_uri": "https://localhost:8080/"
        },
        "id": "3Zpg0RkHqeen",
        "outputId": "2b973a8e-3aa5-4e63-a9fe-9dbee29296cc"
      },
      "execution_count": null,
      "outputs": [
        {
          "output_type": "stream",
          "name": "stdout",
          "text": [
            "[3 5 7 2]\n"
          ]
        }
      ]
    },
    {
      "cell_type": "markdown",
      "source": [
        "To select rows and columns, we need to double slice it. The first argument selects the rows, the second selects the columns:"
      ],
      "metadata": {
        "id": "8ls8J-_uqkXP"
      }
    },
    {
      "cell_type": "code",
      "source": [
        "print(a[:2, 1:3])"
      ],
      "metadata": {
        "colab": {
          "base_uri": "https://localhost:8080/"
        },
        "id": "HOpY2gzOqp0s",
        "outputId": "b1473f61-171e-4df9-da5d-3d5e08951c55"
      },
      "execution_count": null,
      "outputs": [
        {
          "output_type": "stream",
          "name": "stdout",
          "text": [
            "[[2 3]\n",
            " [6 7]]\n"
          ]
        }
      ]
    },
    {
      "cell_type": "markdown",
      "source": [
        "A slice of the array is a view of the data. If we modify the sub-array, **it will also modify the original array!!!** For example, if I change the element at [0,0]:"
      ],
      "metadata": {
        "id": "f-PSee83rU0R"
      }
    },
    {
      "cell_type": "code",
      "source": [
        "sub_array = a[:2, 1:3]\n",
        "print(\"sub_array index [0,0] before change:\", sub_array[0,0])\n",
        "sub_array[0,0]=30\n",
        "print(\"sub_array index [0,0] after change:\", sub_array[0,0])\n",
        "print(\"array index [0,1] after change:\", a[0,1])"
      ],
      "metadata": {
        "colab": {
          "base_uri": "https://localhost:8080/"
        },
        "id": "5QIXpsamrwV_",
        "outputId": "a2e7acb9-9098-4f23-e96a-a4216ad9ef85"
      },
      "execution_count": null,
      "outputs": [
        {
          "output_type": "stream",
          "name": "stdout",
          "text": [
            "sub_array index [0,0] before change: 30\n",
            "sub_array index [0,0] after change: 30\n",
            "array index [0,1] after change: 30\n"
          ]
        }
      ]
    },
    {
      "cell_type": "markdown",
      "source": [
        "**To load a dataset in Numpy**, we can use the function np.genfromtxt() where we specify the file name, delimiter(optional) number of rows to skip in case of headers.\n",
        "Example from class:\n",
        "wines = np.genfromtxt(\"datasets/winequality-red.csv\", delimiter = \";\", skip_header = 1)"
      ],
      "metadata": {
        "id": "XjSEIXooNEy6"
      }
    }
  ]
}