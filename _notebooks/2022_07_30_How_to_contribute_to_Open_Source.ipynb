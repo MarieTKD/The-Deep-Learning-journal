{
  "nbformat": 4,
  "nbformat_minor": 0,
  "metadata": {
    "colab": {
      "name": "2022-07-30-How-to-contribute-to-Open-Source.ipynb",
      "provenance": [],
      "collapsed_sections": [],
      "authorship_tag": "ABX9TyMPYJDEzZH0/EmG36RlZfuV",
      "include_colab_link": true
    },
    "kernelspec": {
      "name": "python3",
      "display_name": "Python 3"
    },
    "language_info": {
      "name": "python"
    }
  },
  "cells": [
    {
      "cell_type": "markdown",
      "metadata": {
        "id": "view-in-github",
        "colab_type": "text"
      },
      "source": [
        "<a href=\"https://colab.research.google.com/github/MarieTKD/The-Deep-Learning-journal/blob/master/_notebooks/2022_07_30_How_to_contribute_to_Open_Source.ipynb\" target=\"_parent\"><img src=\"https://colab.research.google.com/assets/colab-badge.svg\" alt=\"Open In Colab\"/></a>"
      ]
    },
    {
      "cell_type": "markdown",
      "source": [
        "# How to make a contribution in a GitHub repository using your terminal\n",
        "\n",
        "\n",
        "- toc: true\n",
        "- branch: master\n",
        "- badges: true\n",
        "- comments: true\n",
        "- author: Marie Sallaberry\n",
        "- categories: [GitHub]"
      ],
      "metadata": {
        "id": "-W9hL4aNOKMe"
      }
    },
    {
      "cell_type": "markdown",
      "source": [
        "In a couple of months, Hacktoberfest 2022 will start. Hacktoberfest is a celebration of open source contribution for which you can get awesome swags. So let's practice to get ready!"
      ],
      "metadata": {
        "id": "2QHSL5XXORIi"
      }
    },
    {
      "cell_type": "markdown",
      "source": [
        "You will need to signup for a GitHub account if you don't have one."
      ],
      "metadata": {
        "id": "UgwO5PaDOVsW"
      }
    },
    {
      "cell_type": "markdown",
      "source": [
        "## Fork the repository you want to contribute to"
      ],
      "metadata": {
        "id": "lIpE3RiFOifC"
      }
    },
    {
      "cell_type": "markdown",
      "source": [
        "Go on the repository where you want to make a contribution and click on the grey \"Fork\" button on the top of the repository. This makes a copy of the repository in a new repository on **your** GitHub account."
      ],
      "metadata": {
        "id": "L7-lc04rOt2h"
      }
    },
    {
      "cell_type": "markdown",
      "source": [
        "## Make the link between your new repository and your computer"
      ],
      "metadata": {
        "id": "m97w_9n1PkpE"
      }
    },
    {
      "cell_type": "markdown",
      "source": [
        "Click on the \"Code\" button and copy the https (or the ssh if you have an ssh key) adress.\n",
        "In your terminal, write the following line:"
      ],
      "metadata": {
        "id": "vf0gaeYdQvVC"
      }
    },
    {
      "cell_type": "code",
      "source": [
        "git clone *paste the adress you copied here*"
      ],
      "metadata": {
        "id": "f7XDu294s7nY"
      },
      "execution_count": null,
      "outputs": []
    },
    {
      "cell_type": "markdown",
      "source": [
        "## Work from your local copy"
      ],
      "metadata": {
        "id": "_pJF9FzrgzjN"
      }
    },
    {
      "cell_type": "markdown",
      "source": [
        "In your terminal, go into the new directory the cloning created:"
      ],
      "metadata": {
        "id": "tD0-iQ_6g4kA"
      }
    },
    {
      "cell_type": "code",
      "source": [
        "cd *Name of the repository*"
      ],
      "metadata": {
        "id": "UzmOLE5qieu5"
      },
      "execution_count": null,
      "outputs": []
    },
    {
      "cell_type": "markdown",
      "source": [
        "### Don't forget this step: create a new branch! You shouldn't be working from the main branch!"
      ],
      "metadata": {
        "id": "les67Q8vhR16"
      }
    },
    {
      "cell_type": "markdown",
      "source": [
        "Choose the name of the branch, and type:\n"
      ],
      "metadata": {
        "id": "Wq1M98tohdvm"
      }
    },
    {
      "cell_type": "code",
      "source": [
        "git checkout -b *Name of your new branch*"
      ],
      "metadata": {
        "id": "2STxtlkxiZow"
      },
      "execution_count": null,
      "outputs": []
    },
    {
      "cell_type": "markdown",
      "source": [
        "Now you can open the file you want to modify in your IDE, make the modifications and save your work."
      ],
      "metadata": {
        "id": "sF4v--83i3eX"
      }
    },
    {
      "cell_type": "markdown",
      "source": [
        "## Stage and commit your modifications"
      ],
      "metadata": {
        "id": "YBjLBdWUjqhJ"
      }
    },
    {
      "cell_type": "markdown",
      "source": [
        "Back in the terminal stage your changes:"
      ],
      "metadata": {
        "id": "xsdgtFAKj0Zr"
      }
    },
    {
      "cell_type": "code",
      "source": [
        "git add *Name of the file you modified*"
      ],
      "metadata": {
        "id": "aN15A88Cj8JC"
      },
      "execution_count": null,
      "outputs": []
    },
    {
      "cell_type": "markdown",
      "source": [
        "Then commit the file with a short description of your modification(s):"
      ],
      "metadata": {
        "id": "-MP7HlAlkEW-"
      }
    },
    {
      "cell_type": "code",
      "source": [
        "git commit -m \"Short description\""
      ],
      "metadata": {
        "id": "t1Yxuo72kG7U"
      },
      "execution_count": null,
      "outputs": []
    },
    {
      "cell_type": "markdown",
      "source": [
        "And push your repository to GitHub:"
      ],
      "metadata": {
        "id": "LsUGnumZlEiD"
      }
    },
    {
      "cell_type": "code",
      "source": [
        "git push origin *name of your branch*"
      ],
      "metadata": {
        "id": "9HZiVA_KlPMo"
      },
      "execution_count": null,
      "outputs": []
    },
    {
      "cell_type": "markdown",
      "source": [
        "## Now, back to your GitHub repository to do the Pull Request!"
      ],
      "metadata": {
        "id": "eANx3gFalZHM"
      }
    },
    {
      "cell_type": "markdown",
      "source": [
        "In your forked repository, you now have a button saying \"Compare & Pull Request\"! Click on it, it will open a new page where you can explain to the maintainers of the repository the changes you made. A brief but good description as well as a screenshot really help the maintainers to review your PR. You can also ask a question if you have any."
      ],
      "metadata": {
        "id": "_zTzdHLOl5mr"
      }
    },
    {
      "cell_type": "markdown",
      "source": [
        "When you're done, you can click on the button underneath: \"Create Pull Request\"."
      ],
      "metadata": {
        "id": "bXqbhI0QpQSt"
      }
    },
    {
      "cell_type": "markdown",
      "source": [
        "That's it! You created your first PR! Congratulations! 🎉\n",
        "Now, you just have to wait for your PR to be reviewed and eventually merged. Be patient!"
      ],
      "metadata": {
        "id": "CQB9obsmpbDx"
      }
    },
    {
      "cell_type": "markdown",
      "source": [
        "### For more informations on how to contribute to Open Source, I recommend [Eddie Jaoude YouTube Channel](https://www.youtube.com/c/eddiejaoude) and their community [EddieHub](https://www.eddiehub.org/)"
      ],
      "metadata": {
        "id": "fnmYZVo7ph3Z"
      }
    },
    {
      "cell_type": "markdown",
      "source": [
        "### Thank you for reading! You can find me on [Twitter](https://twitter.com/coding_Marie)!"
      ],
      "metadata": {
        "id": "sDBWMzhAqgYV"
      }
    }
  ]
}